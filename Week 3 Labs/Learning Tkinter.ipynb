{
 "cells": [
  {
   "cell_type": "code",
   "execution_count": 1,
   "metadata": {},
   "outputs": [],
   "source": [
    "import tkinter\n",
    "import sys\n",
    "import os"
   ]
  },
  {
   "cell_type": "code",
   "execution_count": 2,
   "metadata": {},
   "outputs": [],
   "source": [
    "\n",
    "def addReminder(text, x, y, notes, reminders):\n",
    "    notewin = tkinter.Toplevel()\n",
    "    notewin.resizable(width = False, height = False)\n",
    "    notewin.geometry(\"+\"+str(x)+\"+\"+str(y))\n",
    "    \n",
    "    reminder = tkinter.Text(notewin, bg = \"yellow\", width = 30, height =15)\n",
    "    reminder.insert(tkinter.END,text)\n",
    "    reminder.pack()\n",
    "    \n",
    "    notes.append(notewin)\n",
    "    reminders.append(reminder)\n",
    "\n",
    "\n",
    "    def deleteWindowHandler():\n",
    "        print(\"Window Deleted\")\n",
    "        notewin.withdraw()\n",
    "        notes.remove(notewin)\n",
    "        reminders.remove(reminder)\n",
    "    \n",
    "    notewin.protocol(\"WM_DELETE_WINDOW\",deleteWindowHandler)\n",
    "    \n",
    "def open_file():\n",
    "    print(\"You opened a file\")\n",
    "    return\n",
    "\n",
    "\n",
    "def save_file():\n",
    "    return\n",
    "\n",
    "\n",
    "def close_file():\n",
    "    return\n",
    "\n",
    "\n",
    "def quit():\n",
    "    return\n",
    "\n",
    "\n",
    "def view_file():\n",
    "    return\n",
    "\n",
    "\n",
    "def view_record():\n",
    "    return"
   ]
  },
  {
   "cell_type": "code",
   "execution_count": 3,
   "metadata": {},
   "outputs": [],
   "source": [
    "def main():\n",
    "\n",
    "    def post():\n",
    "        print(\"Post\")\n",
    "        addReminder(note.get(\"1.0\", tkinter.END), root.winfo_rootx()+5, root.winfo_rooty()+5, notes, reminders)\n",
    "        note.delete(\"1.0\", tkinter.END)\n",
    "        \n",
    "        \n",
    "    ## open a root window, set title and size\n",
    "    root = tkinter.Tk()\n",
    "    root.title(\"Reminder!\")\n",
    "    root.resizable(width = 500, height = 500)\n",
    "    \n",
    "    notes = []\n",
    "    reminders = []\n",
    "    \n",
    "    ## create a Menu called bar\n",
    "    bar = tkinter.Menu(root)\n",
    "    fileMenu = tkinter.Menu(bar, tearoff=0)\n",
    "    viewMenu = tkinter.Menu(bar, tearoff=0)\n",
    "    \n",
    "    ## add menu itels to the menus\n",
    "    file_menu_items = {\"Open\": open_file, \"Save\": save_file, \"Close\": close_file, \"Quit\":quit}\n",
    "    view_menu_items = {\"View file\": view_file, \"View record\": view_record}\n",
    "    menus = [file_menu_items, view_menu_items]\n",
    "\n",
    "    for item in file_menu_items:\n",
    "        fileMenu.add_command(label=item, command = file_menu_items[item])\n",
    "    for item in view_menu_items:\n",
    "        viewMenu.add_command(label=item, command = view_menu_items[item])\n",
    "\n",
    "    ## add a menu label in the main bar and add menu items to cascade from it\n",
    "    bar.add_cascade(label='File', menu = fileMenu)\n",
    "    bar.add_cascade(label='View', menu = viewMenu)\n",
    "    root.config(menu=bar)\n",
    "    \n",
    "    ## Creating a Frame to group items together\n",
    "    mainFrame = tkinter.Frame(root,borderwidth=10,padx=5,pady=5)\n",
    "    mainFrame.pack()\n",
    "    \n",
    "    ## Create a text widget\n",
    "    note = tkinter.Text(mainFrame, bg = \"light green\", width =30, height= 15)\n",
    "    note.pack()\n",
    "    \n",
    "    tkinter.Button(mainFrame, text=\"New Reminder!\", command = post).pack()\n",
    "    ## add text to the text box\n",
    "    def now():\n",
    "        note.insert(tkinter.END, \"Now you've gone and done it!\")\n",
    "\n",
    "    tkinter.Button(mainFrame, text=\"Now\", command = now).pack()\n",
    "    \n",
    "    try:\n",
    "        print(\"reading reminders.txt file\")\n",
    "        file = open(r\"C:\\Users\\redye\\MASTERS YORK\\Advanced Programming\\Week 3 Labs\\reminders.txt\", \"r\")\n",
    "        x = int(file.readline())\n",
    "        y = int(file.readline())\n",
    "        root.geometry(\"+\" + str(x) + \"+\" + str(y))\n",
    "\n",
    "        line = file.readline()\n",
    "        while line.strip() != \"\":\n",
    "            x = int(line)\n",
    "            y = int(file.readline())\n",
    "            text = \"\"\n",
    "            line = file.readline()\n",
    "            while line.strip() != \"____....____._._._\":\n",
    "                text = text+line\n",
    "                line = file.readline()\n",
    "            text = text.strip()\n",
    "            addReminder(text,x,y,notes,reminders)\n",
    "            line = file.readline()\n",
    "    except FileNotFoundError:\n",
    "        print(\"reminders.txt not found\")\n",
    "\n",
    "        \n",
    "    def appClosing():\n",
    "        print(\"Applcation closing\")\n",
    "        file = open(r\"C:\\Users\\redye\\MASTERS YORK\\Advanced Programming\\Week 3 Labs\\reminders.txt\", \"w\")\n",
    "        file.write(str(root.winfo_x()) + \"\\n\")\n",
    "        file.write(str(root.winfo_y()) + \"\\n\")\n",
    "\n",
    "        for i in range(len(notes)):\n",
    "            print(notes[i].winfo_rootx())\n",
    "            print(notes[i].winfo_rooty())\n",
    "            print(reminders[i].get(\"1.0\", tkinter.END))\n",
    "            file.write(str(notes[i].winfo_rootx())+\"\\n\")\n",
    "            file.write(str(notes[i].winfo_rooty())+\"\\n\")\n",
    "            file.write(reminders[i].get(\"1.0\",tkinter.END)+\"\\n\")\n",
    "            file.write(\"____....____._._._\\n\")\n",
    "\n",
    "        file.close()\n",
    "        root.quit()\n",
    "        sys.exit()\n",
    "        \n",
    "        \n",
    "    root.protocol(\"WM_DELETE_WINDOW\", appClosing)\n",
    "    \n",
    "    tkinter.mainloop()\n"
   ]
  },
  {
   "cell_type": "code",
   "execution_count": null,
   "metadata": {
    "pycharm": {
     "is_executing": true
    }
   },
   "outputs": [
    {
     "name": "stdout",
     "output_type": "stream",
     "text": [
      "reading reminders.txt file\n"
     ]
    }
   ],
   "source": [
    "if __name__ ==\"__main__\":\n",
    "    main()\n"
   ]
  },
  {
   "cell_type": "code",
   "execution_count": null,
   "metadata": {
    "pycharm": {
     "is_executing": true
    }
   },
   "outputs": [],
   "source": []
  },
  {
   "cell_type": "code",
   "execution_count": null,
   "metadata": {
    "pycharm": {
     "is_executing": true
    }
   },
   "outputs": [],
   "source": []
  },
  {
   "cell_type": "code",
   "execution_count": null,
   "metadata": {
    "pycharm": {
     "is_executing": true
    }
   },
   "outputs": [],
   "source": [
    "\n",
    "    \n",
    "\n"
   ]
  },
  {
   "cell_type": "code",
   "execution_count": null,
   "metadata": {
    "pycharm": {
     "is_executing": true
    }
   },
   "outputs": [],
   "source": []
  }
 ],
 "metadata": {
  "kernelspec": {
   "display_name": "Python 3",
   "language": "python",
   "name": "python3"
  },
  "language_info": {
   "codemirror_mode": {
    "name": "ipython",
    "version": 3
   },
   "file_extension": ".py",
   "mimetype": "text/x-python",
   "name": "python",
   "nbconvert_exporter": "python",
   "pygments_lexer": "ipython3",
   "version": "3.8.3"
  }
 },
 "nbformat": 4,
 "nbformat_minor": 4
}