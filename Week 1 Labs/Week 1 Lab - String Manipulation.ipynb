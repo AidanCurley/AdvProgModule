{
 "cells": [
  {
   "cell_type": "code",
   "execution_count": 61,
   "metadata": {},
   "outputs": [
    {
     "name": "stdout",
     "output_type": "stream",
     "text": [
      "Please enter a number: 12\n",
      "The even timetable for 12 is:\n",
      " 2 times 12 is 24\n",
      " 4 times 12 is 48\n",
      " 6 times 12 is 72\n",
      " 8 times 12 is 96\n",
      "10 times 12 is 120\n",
      "12 times 12 is 144\n",
      "14 times 12 is 168\n",
      "16 times 12 is 192\n",
      "18 times 12 is 216\n",
      "20 times 12 is 240\n"
     ]
    }
   ],
   "source": [
    "my_number = input('Please enter a number: ')\n",
    "print(f\"The even timetable for {my_number} is:\")\n",
    "for i in range(2,21,2):\n",
    "    if i < 10:\n",
    "        print(\" \", end = \"\")\n",
    "    print(f\"{i} times {my_number} is {i*int(my_number)}\")"
   ]
  },
  {
   "cell_type": "code",
   "execution_count": 3,
   "metadata": {},
   "outputs": [
    {
     "name": "stdout",
     "output_type": "stream",
     "text": [
      "Please choose L, R or D: d\n",
      "    \n",
      "   *\n",
      "  ***\n",
      " *****\n",
      "  ***\n",
      "   *\n",
      "Diamond\n"
     ]
    }
   ],
   "source": [
    "while True:\n",
    "    my_choice = input('Please choose L, R or D: ').upper()\n",
    "    if my_choice == \"L\":\n",
    "        for i in  range(5):\n",
    "            print((4 * \" \") + (i * \"*\"))\n",
    "        print(\"Left-sided\")\n",
    "        break\n",
    "    elif my_choice == \"R\":\n",
    "        for i in  range(5):\n",
    "            print(((7-i) * \" \") + (i * \"*\"))\n",
    "        print(\"Right-sided\")\n",
    "        break\n",
    "    elif my_choice == \"D\":\n",
    "        for i in range(4):\n",
    "            print(\" \" + ((3-i) * \" \") + ((2 * i - 1) * \"*\"))\n",
    "        for i in range(1,3):\n",
    "            print(f\" {i * ' '}{((int(4/i) - 1) * '*')}\")                    \n",
    "        print(\"Diamond\")\n",
    "        break\n",
    "    else:\n",
    "        print(\"Not a valid entry. Please try again.\")\n"
   ]
  },
  {
   "cell_type": "code",
   "execution_count": null,
   "metadata": {},
   "outputs": [],
   "source": []
  }
 ],
 "metadata": {
  "kernelspec": {
   "display_name": "Python 3",
   "language": "python",
   "name": "python3"
  },
  "language_info": {
   "codemirror_mode": {
    "name": "ipython",
    "version": 3
   },
   "file_extension": ".py",
   "mimetype": "text/x-python",
   "name": "python",
   "nbconvert_exporter": "python",
   "pygments_lexer": "ipython3",
   "version": "3.8.3"
  }
 },
 "nbformat": 4,
 "nbformat_minor": 4
}
