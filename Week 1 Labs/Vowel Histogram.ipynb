{
 "cells": [
  {
   "cell_type": "markdown",
   "metadata": {},
   "source": [
    "## Task\n",
    "Write a program in Python that asks the user for a sentence and analyses it to establish the number of separate vowels (A, E, I, O, U) and the number of “other” non-space characters contained in the sentence. Your program should output a histogram which indicates a * (star) for each vowel character, followed by a statement indicating the number of other non-space characters."
   ]
  },
  {
   "cell_type": "code",
   "execution_count": 1,
   "metadata": {},
   "outputs": [
    {
     "name": "stdout",
     "output_type": "stream",
     "text": [
      "Please enter your string: The black cat sat up on the orange mat!\n",
      "A: *****\n",
      "E: ***\n",
      "I: \n",
      "O: **\n",
      "U: *\n",
      "Other (non-space) characters: 20\n"
     ]
    }
   ],
   "source": [
    "def count_vowels(string):\n",
    "    string = string.lower()\n",
    "    a = string.count(\"a\")\n",
    "    e = string.count(\"e\")\n",
    "    i = string.count(\"i\")\n",
    "    o = string.count(\"o\")\n",
    "    u = string.count(\"u\")\n",
    "    return {\"A\":a,\"E\":e,\"I\":i,\"O\":o,\"U\":u}\n",
    "\n",
    "string_in = input(\"Please enter your string: \")\n",
    "results = count_vowels(string_in)\n",
    "for item in results:\n",
    "     print(f\"{item}: {results[item] * '*'}\")\n",
    "others = len(string_in.replace(' ','')) - sum(results.values())\n",
    "print(f\"Other (non-space) characters: {others}\")"
   ]
  }
 ],
 "metadata": {
  "kernelspec": {
   "display_name": "Python 3",
   "language": "python",
   "name": "python3"
  },
  "language_info": {
   "codemirror_mode": {
    "name": "ipython",
    "version": 3
   },
   "file_extension": ".py",
   "mimetype": "text/x-python",
   "name": "python",
   "nbconvert_exporter": "python",
   "pygments_lexer": "ipython3",
   "version": "3.8.3"
  }
 },
 "nbformat": 4,
 "nbformat_minor": 4
}
