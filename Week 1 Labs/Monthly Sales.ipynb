{
 "cells": [
  {
   "cell_type": "markdown",
   "metadata": {},
   "source": [
    "## Task\n",
    "A business has a number of retail outlets across the world. Each outlet keeps a track of its monthly sales and sends a quarterly report to the company's headquarters. Using at least two different data structures, write a program that calculates the average for each outlet and each month, the total for each outlet and each month, and the grand total for the quarter. You should hard code (write data into your program directly) all the data you need once only."
   ]
  },
  {
   "cell_type": "code",
   "execution_count": 145,
   "metadata": {},
   "outputs": [],
   "source": [
    "outlets = [(\"London\",\"L3\"), (\"Paris\", \"P2\"),(\"New York\",\"N6\"), (\"Beijing\",\"B8\")]\n",
    "monthly_sales = {\"Apr18\": [390,250,460,470], \"May18\": [345,270,480,510], \"Jun18\":[379,300,450,360]}"
   ]
  },
  {
   "cell_type": "code",
   "execution_count": 146,
   "metadata": {},
   "outputs": [],
   "source": [
    "def get_quarterly_figs(location):\n",
    "    total = 0\n",
    "    figures = list(monthly_sales.values())\n",
    "    for month in figures:\n",
    "        total += month[location]\n",
    "    avg = round(total/len(figures),2)\n",
    "    return [avg,total]"
   ]
  },
  {
   "cell_type": "code",
   "execution_count": 147,
   "metadata": {},
   "outputs": [],
   "source": [
    "def get_monthly_figs(month):\n",
    "    total = sum(monthly_sales.get(month))\n",
    "    avg = round(total/len(monthly_sales.get(month)),2)\n",
    "    return [avg,total]"
   ]
  },
  {
   "cell_type": "code",
   "execution_count": 148,
   "metadata": {},
   "outputs": [
    {
     "name": "stdout",
     "output_type": "stream",
     "text": [
      "Quarterly Sales Report (000's)\n",
      "\n",
      "London  \tL3:\t$371.33\t\t$1114\n",
      "Paris   \tP2:\t$273.33\t\t$820\n",
      "New York\tN6:\t$463.33\t\t$1390\n",
      "Beijing \tB8:\t$446.67\t\t$1340\n",
      "\n",
      "\n",
      "Apr18   \t  :\t$392.5\t\t$1570\n",
      "May18   \t  :\t$401.25\t\t$1605\n",
      "Jun18   \t  :\t$372.25\t\t$1489\n",
      "\n",
      "\n",
      "Grand Total:  $4664\n"
     ]
    }
   ],
   "source": [
    "print(\"Quarterly Sales Report (000's)\\n\")\n",
    "grand_total = 0\n",
    "for location in outlets:\n",
    "    quarterly_figs = get_quarterly_figs(outlets.index(location))\n",
    "    print(f\"{location[0]:8}\\t{location[1]}:\\t${quarterly_figs[0]}\\t\\t${quarterly_figs[1]}\")\n",
    "print(\"\\n\")\n",
    "for month in monthly_sales:\n",
    "    monthly_figs = get_monthly_figs(month)\n",
    "    grand_total += monthly_figs[1]\n",
    "    print(f\"{month:8}\\t  :\\t${monthly_figs[0]}\\t\\t${monthly_figs[1]}\")\n",
    "print(\"\\n\")\n",
    "print(f\"Grand Total:  ${grand_total}\")"
   ]
  },
  {
   "cell_type": "code",
   "execution_count": null,
   "metadata": {},
   "outputs": [],
   "source": []
  },
  {
   "cell_type": "code",
   "execution_count": null,
   "metadata": {},
   "outputs": [],
   "source": []
  }
 ],
 "metadata": {
  "kernelspec": {
   "display_name": "Python 3",
   "language": "python",
   "name": "python3"
  },
  "language_info": {
   "codemirror_mode": {
    "name": "ipython",
    "version": 3
   },
   "file_extension": ".py",
   "mimetype": "text/x-python",
   "name": "python",
   "nbconvert_exporter": "python",
   "pygments_lexer": "ipython3",
   "version": "3.8.3"
  }
 },
 "nbformat": 4,
 "nbformat_minor": 4
}
