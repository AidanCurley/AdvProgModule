{
 "cells": [
  {
   "cell_type": "markdown",
   "metadata": {},
   "source": [
    "## TASK\n",
    "Write a program that outputs a calendar given two values inputted by the user. If the user inputs the values of 30  and 7 the following structure will be produced, where 30 generates the number of days in the month and 7 (Sunday) indicates which day of the week the calendar starts on. The user should only be able to input a valid range of numbers, and regardless of the values entered the calendar should always output 7 lines (even if some of them are blank). \n"
   ]
  },
  {
   "cell_type": "code",
   "execution_count": 32,
   "metadata": {},
   "outputs": [
    {
     "name": "stdout",
     "output_type": "stream",
     "text": [
      "Please enter the number of days in the month: 19\n",
      "Please enter the number of days in the month: we\n",
      "That's not a number. Please try again.\n",
      "Please enter the number of days in the month: 29\n",
      "Please enter the start day (1 - 7): 3\n",
      "\n",
      "  M  T  W Th  F  S Su\n",
      "        1  2  3  4  5\n",
      "  6  7  8  9 10 11 12\n",
      " 13 14 15 16 17 18 19\n",
      " 20 21 22 23 24 25 26\n",
      " 27 28 29"
     ]
    }
   ],
   "source": [
    "number_of_days = 0\n",
    "start_day = 0\n",
    "ERROR_MESSAGE = \"That's not a number. Please try again.\"\n",
    "\n",
    "# ensure a valid number of days is entered\n",
    "while number_of_days <28 or number_of_days >31:\n",
    "    try: \n",
    "        number_of_days = int(input(\"Please enter the number of days in the month: \"))\n",
    "    except ValueError:\n",
    "        print(ERROR_MESSAGE)\n",
    "\n",
    "# ensure a valid start day is entered\n",
    "while start_day < 1 or start_day > 7:\n",
    "    try:\n",
    "        start_day = int(input(\"Please enter the start day (1 - 7): \"))\n",
    "    except ValurError:\n",
    "        print(ERROR_MESSAGE)\n",
    "\n",
    "        \n",
    "offset = start_day - 1\n",
    "day = 1\n",
    "\n",
    "# print header row\n",
    "print(\"\")\n",
    "print(f\"  M  T  W Th  F  S Su\")\n",
    "# move cursor to start day before printing\n",
    "print(\"   \" * offset, end=\"\") \n",
    "\n",
    "for i in range(6):\n",
    "    while day <= number_of_days:\n",
    "        print(f\" {day:2}\", end=\"\")\n",
    "        if (offset + day) % 7 == 0: # check if 7th column has been reached\n",
    "            print(\"\")  #change to next line\n",
    "        day+=1\n",
    "    "
   ]
  }
 ],
 "metadata": {
  "kernelspec": {
   "display_name": "Python 3",
   "language": "python",
   "name": "python3"
  },
  "language_info": {
   "codemirror_mode": {
    "name": "ipython",
    "version": 3
   },
   "file_extension": ".py",
   "mimetype": "text/x-python",
   "name": "python",
   "nbconvert_exporter": "python",
   "pygments_lexer": "ipython3",
   "version": "3.8.3"
  }
 },
 "nbformat": 4,
 "nbformat_minor": 4
}
