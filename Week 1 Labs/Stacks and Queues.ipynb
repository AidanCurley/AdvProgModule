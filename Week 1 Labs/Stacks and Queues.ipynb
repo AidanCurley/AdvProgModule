{
 "cells": [
  {
   "cell_type": "markdown",
   "metadata": {},
   "source": [
    "## TASK\n",
    "Using an appropriate Python data structure implement two programs that demonstrate the behaviour of a stack (LIFO) queue (FIFO). For each program, you should create a menu system to enable the user to manipulate the structure, and the program should keep running until the user chooses to exit. An example menu for a stack would be:"
   ]
  },
  {
   "cell_type": "code",
   "execution_count": 71,
   "metadata": {},
   "outputs": [],
   "source": [
    "class Stack:\n",
    "    def __init__(self):\n",
    "        self.data = []\n",
    "\n",
    "    # pushes element to the list\n",
    "    def push(self, element):\n",
    "        return self.data.append(element)\n",
    "\n",
    "    # removes amd return latest element\n",
    "    def pop(self):\n",
    "        try:\n",
    "            element = self.data.pop()\n",
    "        except IndexError:\n",
    "            element = \"Can't pop an empty stack\"\n",
    "        return element\n",
    "    \n",
    "    # returns the list contents\n",
    "    def view(self):\n",
    "        try:\n",
    "            element = self.data[len(self.data)-1]\n",
    "        except IndexError:\n",
    "            element = \"Stack is empty\"\n",
    "        return element\n",
    "\n",
    "\n",
    "class Queue:\n",
    "    def __init__(self):\n",
    "        self.data = []\n",
    "\n",
    "    # pushes element to the list\n",
    "    def push(self, element):\n",
    "        return self.data.append(element)\n",
    "\n",
    "    # removes amd return first element\n",
    "    def pop(self):\n",
    "        try:\n",
    "            element = self.data.pop(0)\n",
    "        except IndexError:\n",
    "            element = \"Can't dequeue an empty queue\"\n",
    "        return element\n",
    "    \n",
    "    # returns the list contents\n",
    "    def view(self):\n",
    "        try:\n",
    "            element = self.data[0]\n",
    "        except IndexError:\n",
    "            element = \"Stack is empty\"\n",
    "        return element"
   ]
  },
  {
   "cell_type": "code",
   "execution_count": 72,
   "metadata": {},
   "outputs": [
    {
     "name": "stdout",
     "output_type": "stream",
     "text": [
      "Which do you want to work with STACK(S) or QUEUE(Q)s\n"
     ]
    }
   ],
   "source": [
    "# Ask user to choose whether to work with stacks or queues\n",
    "while True:\n",
    "    data_type = input(\"Which do you want to work with STACK(S) or QUEUE(Q)\").upper()\n",
    "    if data_type == \"S\":\n",
    "        my_datatype = Stack()\n",
    "        # set stack menu options\n",
    "        menu = [\"STACK MENU\", \"1. Push\", \"2. Pop\", \"3. View\", \"4. Quit\"]\n",
    "        break\n",
    "    elif data_type == \"Q\":\n",
    "        my_datatype = Queue()\n",
    "        # set queue menu options\n",
    "        menu = [\"QUEUE MENU\", \"1. Enqueue\", \"2. Dequeue\", \"3. View\", \"4. Quit\"]\n",
    "        break"
   ]
  },
  {
   "cell_type": "code",
   "execution_count": 73,
   "metadata": {},
   "outputs": [
    {
     "name": "stdout",
     "output_type": "stream",
     "text": [
      "STACK MENU\n",
      "1. Push\n",
      "2. Pop\n",
      "3. View\n",
      "4. Quit\n",
      "Please choose: 3\n",
      "Stack is empty\n",
      "Done\n",
      "\n",
      "STACK MENU\n",
      "1. Push\n",
      "2. Pop\n",
      "3. View\n",
      "4. Quit\n",
      "Please choose: 4\n"
     ]
    }
   ],
   "source": [
    "# Display menu from appropriate data type\n",
    "chosen_option = \"\"\n",
    "while chosen_option != \"4\":\n",
    "    for option in menu:\n",
    "        print(option)\n",
    "        \n",
    "    # ask for input\n",
    "    chosen_option = input(\"Please choose: \")\n",
    "    if chosen_option == \"1\":\n",
    "        element = input(\"Enter data: \")\n",
    "        my_datatype.push(element)\n",
    "        print(\"Done\\n\")\n",
    "    if chosen_option == \"2\":\n",
    "        print(my_datatype.pop())\n",
    "        print(\"Done\\n\")\n",
    "    if chosen_option == \"3\":\n",
    "        print(my_datatype.view())\n",
    "        print(\"Done\\n\")\n"
   ]
  },
  {
   "cell_type": "code",
   "execution_count": null,
   "metadata": {},
   "outputs": [],
   "source": []
  }
 ],
 "metadata": {
  "kernelspec": {
   "display_name": "Python 3",
   "language": "python",
   "name": "python3"
  },
  "language_info": {
   "codemirror_mode": {
    "name": "ipython",
    "version": 3
   },
   "file_extension": ".py",
   "mimetype": "text/x-python",
   "name": "python",
   "nbconvert_exporter": "python",
   "pygments_lexer": "ipython3",
   "version": "3.8.3"
  }
 },
 "nbformat": 4,
 "nbformat_minor": 4
}
