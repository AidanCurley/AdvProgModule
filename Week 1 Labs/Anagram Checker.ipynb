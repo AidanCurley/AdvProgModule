{
 "cells": [
  {
   "cell_type": "markdown",
   "metadata": {},
   "source": [
    "## Task\n",
    "Write a program in Python that checks if two inputted words are ‘anagrams’. If the user inputs ‘note’ and ‘tone’, the program would output “These are anagrams”. If the user entered 'cat' and 'sat' the program would output \"These are not anagrams\". Your program should contain a function “isAnagram()” that returns either true or false. The main part of the program should provide a suitable interface for the user. "
   ]
  },
  {
   "cell_type": "code",
   "execution_count": 20,
   "metadata": {},
   "outputs": [],
   "source": [
    "def is_anagram(string1, string2):\n",
    "    counts1=[]\n",
    "    counts2=[]\n",
    "    for character in [chr(i) for i in range(128)]:\n",
    "        counts1 +=[string1.count(character)]\n",
    "        counts2 +=[string2.count(character)]\n",
    "    return counts1 == counts2\n",
    "\n",
    "term1 = input(\"First string:\")\n",
    "term2 = input(\"Second string:\")\n",
    "print(is_anagram(term1, term2))"
   ]
  },
  {
   "cell_type": "code",
   "execution_count": 21,
   "metadata": {},
   "outputs": [
    {
     "name": "stdout",
     "output_type": "stream",
     "text": [
      "First string:dog\n",
      "Second string:god\n",
      "True\n"
     ]
    }
   ],
   "source": []
  },
  {
   "cell_type": "code",
   "execution_count": null,
   "metadata": {},
   "outputs": [],
   "source": []
  }
 ],
 "metadata": {
  "kernelspec": {
   "display_name": "Python 3",
   "language": "python",
   "name": "python3"
  },
  "language_info": {
   "codemirror_mode": {
    "name": "ipython",
    "version": 3
   },
   "file_extension": ".py",
   "mimetype": "text/x-python",
   "name": "python",
   "nbconvert_exporter": "python",
   "pygments_lexer": "ipython3",
   "version": "3.8.3"
  }
 },
 "nbformat": 4,
 "nbformat_minor": 4
}
