{
 "cells": [
  {
   "cell_type": "markdown",
   "metadata": {},
   "source": [
    "This code needs correcting using try .. except\n",
    "\n",
    "Test this with the following pairs of values \n",
    "30 and 3, 5 and 45, 0 and 0, 'hit enter key' \n",
    "to find the type of error/s that are generated"
   ]
  },
  {
   "cell_type": "code",
   "execution_count": 43,
   "metadata": {},
   "outputs": [
    {
     "name": "stdout",
     "output_type": "stream",
     "text": [
      "Enter a number:21\n",
      "Enter another number:1.3\n",
      "ERROR: Must be an integer!\n",
      " Start again.\n",
      "Enter a number:21\n",
      "Enter another number:3\n",
      "21  is a multiple of  3\n"
     ]
    }
   ],
   "source": [
    "while True:  \n",
    "    try:\n",
    "        num1 = int(input(\"Enter a number:\" ))\n",
    "        num2 = int(input(\"Enter another number:\" ))\n",
    "\n",
    "\n",
    "        if num1 > num2:\n",
    "            if num1%num2 == 0:\n",
    "                print(num1, \" is a multiple of \", num2)\n",
    "        else:\n",
    "            if num2%num1 == 0:\n",
    "                print(num2, \" is a multiple of \", num1)\n",
    "        break\n",
    "        \n",
    "    except ValueError:\n",
    "        print(\"ERROR: Must be an integer!\\nStart again.\")\n",
    "\n",
    "    except ZeroDivisionError:\n",
    "        print(\"ERROR: No numbers are multiples of zero!\\nStart again.\")\n"
   ]
  },
  {
   "cell_type": "markdown",
   "metadata": {},
   "source": [
    "User input requires a list of space seperated words\n",
    "Create a small list to see what error is generated"
   ]
  },
  {
   "cell_type": "code",
   "execution_count": 32,
   "metadata": {},
   "outputs": [
    {
     "name": "stdout",
     "output_type": "stream",
     "text": [
      "List of names:Aidan\n",
      "ERROR: Not enough names to print the 1000th name.\n"
     ]
    }
   ],
   "source": [
    "names = input(\"List of names:\") \n",
    "nameList = names.split()\n",
    "try:\n",
    "    print(nameList[1000])\n",
    "except IndexError:\n",
    "    print(\"ERROR: Not enough names to print the 1000th name.\")"
   ]
  },
  {
   "cell_type": "markdown",
   "metadata": {},
   "source": [
    "This is an easy mistake to make by users"
   ]
  },
  {
   "cell_type": "code",
   "execution_count": 33,
   "metadata": {},
   "outputs": [
    {
     "name": "stdout",
     "output_type": "stream",
     "text": [
      "670\n",
      "530\n",
      "ERROR: 3O cannot be converted to an integer.\n"
     ]
    }
   ],
   "source": [
    "randomList = ['67', 53, '3O', 72, '10']\n",
    "\n",
    "try:\n",
    "    for i in randomList:\n",
    "        print(int(i) * 10)\n",
    "except ValueError:\n",
    "    print(f\"ERROR: {i} cannot be converted to an integer.\")"
   ]
  },
  {
   "cell_type": "markdown",
   "metadata": {},
   "source": [
    "validating user given file names, what can go wrong?"
   ]
  },
  {
   "cell_type": "code",
   "execution_count": 34,
   "metadata": {},
   "outputs": [
    {
     "name": "stdout",
     "output_type": "stream",
     "text": [
      "Enter File:help.txt\n",
      "ERROR: Can't find file named 'help.txt'\n"
     ]
    }
   ],
   "source": [
    "file_name = input(\"Enter File:\")\n",
    "try:\n",
    "    print(open(file_name).read())\n",
    "except FileNotFoundError:\n",
    "    print(f\"ERROR: Can't find file named '{file_name}'\")"
   ]
  }
 ],
 "metadata": {
  "kernelspec": {
   "display_name": "Python 3",
   "language": "python",
   "name": "python3"
  },
  "language_info": {
   "codemirror_mode": {
    "name": "ipython",
    "version": 3
   },
   "file_extension": ".py",
   "mimetype": "text/x-python",
   "name": "python",
   "nbconvert_exporter": "python",
   "pygments_lexer": "ipython3",
   "version": "3.8.3"
  }
 },
 "nbformat": 4,
 "nbformat_minor": 2
}
