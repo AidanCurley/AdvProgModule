{
 "cells": [
  {
   "cell_type": "code",
   "execution_count": 40,
   "metadata": {},
   "outputs": [],
   "source": [
    "import numpy as np"
   ]
  },
  {
   "cell_type": "markdown",
   "metadata": {},
   "source": [
    "## Exercise 1"
   ]
  },
  {
   "cell_type": "code",
   "execution_count": 41,
   "metadata": {},
   "outputs": [
    {
     "name": "stdout",
     "output_type": "stream",
     "text": [
      "Array:  [[0.83958654 0.51579904 0.39917999 ... 0.84109413 0.38222452 0.35794622]\n",
      " [0.19188387 0.06102919 0.11512997 ... 0.23162006 0.54549656 0.52421428]\n",
      " [0.33109747 0.53640828 0.9035169  ... 0.5262293  0.36070726 0.87128106]\n",
      " ...\n",
      " [0.49340771 0.1616652  0.50647441 ... 0.06628213 0.79786768 0.68080584]\n",
      " [0.51531933 0.59397001 0.0036463  ... 0.78820506 0.55408016 0.49082053]\n",
      " [0.01002502 0.83634883 0.72966436 ... 0.73194894 0.1494904  0.97570184]]\n"
     ]
    }
   ],
   "source": [
    "# random numpy array of shape (100,100)\n",
    "my_array = np.random.rand(100, 100)  \n",
    "print(\"Array: \", my_array)"
   ]
  },
  {
   "cell_type": "code",
   "execution_count": 42,
   "metadata": {},
   "outputs": [
    {
     "name": "stdout",
     "output_type": "stream",
     "text": [
      "Square Root Array: [[0.91628955 0.71819151 0.63180692 ... 0.91711184 0.61824309 0.59828607]\n",
      " [0.43804551 0.24704087 0.33930808 ... 0.48126922 0.73857739 0.72402644]\n",
      " [0.5754107  0.73239899 0.95053506 ... 0.72541664 0.6005891  0.93342437]\n",
      " ...\n",
      " [0.70242986 0.40207611 0.71167016 ... 0.25745316 0.89323439 0.8251096 ]\n",
      " [0.71785746 0.7706945  0.06038459 ... 0.88780914 0.74436561 0.70058584]\n",
      " [0.10012503 0.91452109 0.85420394 ... 0.85554015 0.38663988 0.98777621]]\n"
     ]
    }
   ],
   "source": [
    "# get the square root of each element\n",
    "sqrt_array = np.sqrt(my_array)  \n",
    "print(\"Square Root Array:\", sqrt_array)"
   ]
  },
  {
   "cell_type": "code",
   "execution_count": 43,
   "metadata": {},
   "outputs": [
    {
     "name": "stdout",
     "output_type": "stream",
     "text": [
      "Sum of all square roots 6697.017675269051\n"
     ]
    }
   ],
   "source": [
    "# get the sum of all the square roots\n",
    "sum_sqrt = np.sum(sqrt_array)  \n",
    "print(\"Sum of all square roots\", sum_sqrt)"
   ]
  },
  {
   "cell_type": "markdown",
   "metadata": {},
   "source": [
    "## Exercise 2"
   ]
  },
  {
   "cell_type": "code",
   "execution_count": 44,
   "metadata": {},
   "outputs": [
    {
     "name": "stdout",
     "output_type": "stream",
     "text": [
      "[[ 68.  54.  95.  65.  68.   6.  50.  63.  99.  81.  14.]\n",
      " [  5.  85.  83.  22.  39.  26.  73.  77.  97.  75.  33.]\n",
      " [  1.  46.  39.  53.  67.  19.  87.   3.  84.  58.  26.]\n",
      " [ 83.  81.  31.  96.  13.   3.  58.  32. 100. 100.  96.]\n",
      " [ 71.   2.  63.  84.  85.   5.  67.  35.  76.  77.  76.]\n",
      " [ 79.  67.  44. 100.  89.  71.  27.  46.  45.  13.  32.]\n",
      " [100.  27.  23.  76.  53.  86.   2.  59.  30.  52.   2.]\n",
      " [ 37.  43.  10.  16.  77.  40.  62.   4.  22.  64.  15.]\n",
      " [ 97.  61.   8.  99.  67.  42.  59.   7.  86.  42.  21.]\n",
      " [ 80.  93.  76.  46.  46.  35.  57.  70.  93.  36.  86.]\n",
      " [ 25.  23.  89.  58.  89.  52.  21.  65.  52.  25.  45.]]\n"
     ]
    }
   ],
   "source": [
    "from numpy import genfromtxt\n",
    "my_data = genfromtxt('RandomeValues.csv', delimiter=',')\n",
    "print(my_data)"
   ]
  },
  {
   "cell_type": "code",
   "execution_count": 45,
   "metadata": {},
   "outputs": [
    {
     "name": "stdout",
     "output_type": "stream",
     "text": [
      "[[ 79.  67.  44. 100.  89.  71.  27.  46.  45.  13.  32.]\n",
      " [ 37.  43.  10.  16.  77.  40.  62.   4.  22.  64.  15.]\n",
      " [ 80.  93.  76.  46.  46.  35.  57.  70.  93.  36.  86.]]\n"
     ]
    }
   ],
   "source": [
    "# All the data in rows, 5,7 and 9.\n",
    "rows579 = my_data[5:10:2]\n",
    "print(rows579)"
   ]
  },
  {
   "cell_type": "code",
   "execution_count": 46,
   "metadata": {},
   "outputs": [
    {
     "name": "stdout",
     "output_type": "stream",
     "text": [
      "[[ 68.  63.  14.]\n",
      " [  5.  77.  33.]\n",
      " [  1.   3.  26.]\n",
      " [ 83.  32.  96.]\n",
      " [ 71.  35.  76.]\n",
      " [ 79.  46.  32.]\n",
      " [100.  59.   2.]\n",
      " [ 37.   4.  15.]\n",
      " [ 97.   7.  21.]\n",
      " [ 80.  70.  86.]\n",
      " [ 25.  65.  45.]]\n"
     ]
    }
   ],
   "source": [
    "# All the data in columns 0, 7, 10.\n",
    "cols = my_data[:,[0,7,10]]\n",
    "print(cols)"
   ]
  },
  {
   "cell_type": "code",
   "execution_count": 47,
   "metadata": {},
   "outputs": [
    {
     "name": "stdout",
     "output_type": "stream",
     "text": [
      "[10.  8. 76.]\n"
     ]
    }
   ],
   "source": [
    "# The data in columns 1 to 3 (exclusively), from rows 7 to 9 (inclusively).\n",
    "selected = my_data[7:10, 2]\n",
    "print(selected)"
   ]
  },
  {
   "cell_type": "markdown",
   "metadata": {},
   "source": [
    "## Exercise 3"
   ]
  },
  {
   "cell_type": "code",
   "execution_count": 73,
   "metadata": {},
   "outputs": [
    {
     "name": "stdout",
     "output_type": "stream",
     "text": [
      "['Apr-18' 'May-18' 'Jun-18' 'Jul-18' 'Aug-18' 'Sep-18' 'Oct-18' 'Nov-18'\n",
      " 'Dec-18' 'Jan-19' 'Feb-19' 'Mar-19']\n",
      "['L3' 'L1' 'P2' 'N6' 'N4' 'B8']\n",
      "[[390. 345. 379. 353. 365. 326. 363. 459. 539. 474. 340. 343.]\n",
      " [392. 377. 347. 395. 330. 332. 340. 446. 573. 464. 223. 216.]\n",
      " [250. 270. 300. 398. 376. 382. 306. 489. 552. 488. 298. 269.]\n",
      " [460. 480. 450. 310. 392. 383. 314. 402. 640. 495. 215. 243.]\n",
      " [460. 480. 450. 387. 388. 320. 337. 478. 676. 408. 338. 263.]\n",
      " [470. 510. 360. 472. 423. 385. 353. 464. 598. 419. 459. 659.]]\n"
     ]
    }
   ],
   "source": [
    "from numpy import genfromtxt\n",
    "\n",
    "with open('SalesData.csv', 'r') as f:\n",
    "    reader = csv.reader(f, delimiter=',')\n",
    "    col_headers = next(reader)\n",
    "    sales_data = np.array(list(reader))\n",
    "\n",
    "row_headers = sales_data[:,0]\n",
    "col_headers = np.delete(col_headers, 0)\n",
    "sales_data = np.delete(sales_data, 0, 1)\n",
    "sales_data = sales_data.astype('float64') \n",
    "\n",
    "print(col_headers)\n",
    "print(row_headers)\n",
    "print(sales_data)"
   ]
  },
  {
   "cell_type": "code",
   "execution_count": 95,
   "metadata": {},
   "outputs": [
    {
     "name": "stdout",
     "output_type": "stream",
     "text": [
      "2nd Quarter Sums:\n",
      "2315.00\n",
      "2274.00\n",
      "2128.00\n",
      "2nd Quarter Means:\n",
      "385.83\n",
      "379.00\n",
      "354.67\n"
     ]
    }
   ],
   "source": [
    "# All the sales for the second quarter (Jul-18 to Sep-18 inclusive) calculating the total and the mean for each month.\n",
    "monthly_sums = np.sum(sales_data, axis=0)\n",
    "monthly_means = np.mean(sales_data, axis = 0)\n",
    "second_quarter = monthly_sums[3:6]\n",
    "print(\"2nd Quarter Sums:\")\n",
    "for num in monthly_sums[3:6]:\n",
    "    print(f\"{num:.2f}\")\n",
    "print(\"2nd Quarter Means:\")\n",
    "for num in monthly_means[3:6]:\n",
    "    print(f\"{num:.2f}\")"
   ]
  },
  {
   "cell_type": "code",
   "execution_count": 96,
   "metadata": {},
   "outputs": [],
   "source": [
    "# All the sales for stores L3 and L1, \n",
    "# for the first and third quarter calculating the total and the mean for each quarter for each store.\n"
   ]
  },
  {
   "cell_type": "code",
   "execution_count": null,
   "metadata": {},
   "outputs": [],
   "source": []
  },
  {
   "cell_type": "code",
   "execution_count": null,
   "metadata": {},
   "outputs": [],
   "source": []
  }
 ],
 "metadata": {
  "kernelspec": {
   "display_name": "Python 3",
   "language": "python",
   "name": "python3"
  },
  "language_info": {
   "codemirror_mode": {
    "name": "ipython",
    "version": 3
   },
   "file_extension": ".py",
   "mimetype": "text/x-python",
   "name": "python",
   "nbconvert_exporter": "python",
   "pygments_lexer": "ipython3",
   "version": "3.8.3"
  }
 },
 "nbformat": 4,
 "nbformat_minor": 4
}
