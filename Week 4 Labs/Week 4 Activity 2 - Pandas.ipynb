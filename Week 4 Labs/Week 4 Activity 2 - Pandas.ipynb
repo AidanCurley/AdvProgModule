{
 "cells": [
  {
   "cell_type": "markdown",
   "metadata": {},
   "source": [
    "# Exercise 2"
   ]
  },
  {
   "cell_type": "code",
   "execution_count": 32,
   "metadata": {},
   "outputs": [
    {
     "data": {
      "text/html": [
       "<div>\n",
       "<style scoped>\n",
       "    .dataframe tbody tr th:only-of-type {\n",
       "        vertical-align: middle;\n",
       "    }\n",
       "\n",
       "    .dataframe tbody tr th {\n",
       "        vertical-align: top;\n",
       "    }\n",
       "\n",
       "    .dataframe thead th {\n",
       "        text-align: right;\n",
       "    }\n",
       "</style>\n",
       "<table border=\"1\" class=\"dataframe\">\n",
       "  <thead>\n",
       "    <tr style=\"text-align: right;\">\n",
       "      <th></th>\n",
       "      <th>Apr-18</th>\n",
       "      <th>May-18</th>\n",
       "      <th>Jun-18</th>\n",
       "      <th>Jul-18</th>\n",
       "      <th>Aug-18</th>\n",
       "      <th>Sep-18</th>\n",
       "      <th>Oct-18</th>\n",
       "      <th>Nov-18</th>\n",
       "      <th>Dec-18</th>\n",
       "      <th>Jan-19</th>\n",
       "      <th>Feb-19</th>\n",
       "      <th>Mar-19</th>\n",
       "    </tr>\n",
       "  </thead>\n",
       "  <tbody>\n",
       "    <tr>\n",
       "      <th>L3</th>\n",
       "      <td>390</td>\n",
       "      <td>345</td>\n",
       "      <td>379</td>\n",
       "      <td>353</td>\n",
       "      <td>365</td>\n",
       "      <td>326</td>\n",
       "      <td>363</td>\n",
       "      <td>459</td>\n",
       "      <td>539</td>\n",
       "      <td>474</td>\n",
       "      <td>340</td>\n",
       "      <td>343</td>\n",
       "    </tr>\n",
       "    <tr>\n",
       "      <th>L1</th>\n",
       "      <td>392</td>\n",
       "      <td>377</td>\n",
       "      <td>347</td>\n",
       "      <td>395</td>\n",
       "      <td>330</td>\n",
       "      <td>332</td>\n",
       "      <td>340</td>\n",
       "      <td>446</td>\n",
       "      <td>573</td>\n",
       "      <td>464</td>\n",
       "      <td>223</td>\n",
       "      <td>216</td>\n",
       "    </tr>\n",
       "    <tr>\n",
       "      <th>P2</th>\n",
       "      <td>250</td>\n",
       "      <td>270</td>\n",
       "      <td>300</td>\n",
       "      <td>398</td>\n",
       "      <td>376</td>\n",
       "      <td>382</td>\n",
       "      <td>306</td>\n",
       "      <td>489</td>\n",
       "      <td>552</td>\n",
       "      <td>488</td>\n",
       "      <td>298</td>\n",
       "      <td>269</td>\n",
       "    </tr>\n",
       "    <tr>\n",
       "      <th>N6</th>\n",
       "      <td>460</td>\n",
       "      <td>480</td>\n",
       "      <td>450</td>\n",
       "      <td>310</td>\n",
       "      <td>392</td>\n",
       "      <td>383</td>\n",
       "      <td>314</td>\n",
       "      <td>402</td>\n",
       "      <td>640</td>\n",
       "      <td>495</td>\n",
       "      <td>215</td>\n",
       "      <td>243</td>\n",
       "    </tr>\n",
       "    <tr>\n",
       "      <th>N4</th>\n",
       "      <td>460</td>\n",
       "      <td>480</td>\n",
       "      <td>450</td>\n",
       "      <td>387</td>\n",
       "      <td>388</td>\n",
       "      <td>320</td>\n",
       "      <td>337</td>\n",
       "      <td>478</td>\n",
       "      <td>676</td>\n",
       "      <td>408</td>\n",
       "      <td>338</td>\n",
       "      <td>263</td>\n",
       "    </tr>\n",
       "    <tr>\n",
       "      <th>B8</th>\n",
       "      <td>470</td>\n",
       "      <td>510</td>\n",
       "      <td>360</td>\n",
       "      <td>472</td>\n",
       "      <td>423</td>\n",
       "      <td>385</td>\n",
       "      <td>353</td>\n",
       "      <td>464</td>\n",
       "      <td>598</td>\n",
       "      <td>419</td>\n",
       "      <td>459</td>\n",
       "      <td>659</td>\n",
       "    </tr>\n",
       "  </tbody>\n",
       "</table>\n",
       "</div>"
      ],
      "text/plain": [
       "    Apr-18  May-18  Jun-18  Jul-18  Aug-18  Sep-18  Oct-18  Nov-18  Dec-18  \\\n",
       "L3     390     345     379     353     365     326     363     459     539   \n",
       "L1     392     377     347     395     330     332     340     446     573   \n",
       "P2     250     270     300     398     376     382     306     489     552   \n",
       "N6     460     480     450     310     392     383     314     402     640   \n",
       "N4     460     480     450     387     388     320     337     478     676   \n",
       "B8     470     510     360     472     423     385     353     464     598   \n",
       "\n",
       "    Jan-19  Feb-19  Mar-19  \n",
       "L3     474     340     343  \n",
       "L1     464     223     216  \n",
       "P2     488     298     269  \n",
       "N6     495     215     243  \n",
       "N4     408     338     263  \n",
       "B8     419     459     659  "
      ]
     },
     "execution_count": 32,
     "metadata": {},
     "output_type": "execute_result"
    }
   ],
   "source": [
    "import pandas as pd\n",
    "import numpy as np\n",
    "\n",
    "sales_data = pd.read_csv(\"SalesData.csv\", index_col=0)\n",
    "sales_data"
   ]
  },
  {
   "cell_type": "markdown",
   "metadata": {},
   "source": [
    "## What were the sales for P2 and B8 in Nov-18, Feb-18 and Mar-19?\n"
   ]
  },
  {
   "cell_type": "code",
   "execution_count": 33,
   "metadata": {
    "scrolled": true
   },
   "outputs": [
    {
     "data": {
      "text/html": [
       "<div>\n",
       "<style scoped>\n",
       "    .dataframe tbody tr th:only-of-type {\n",
       "        vertical-align: middle;\n",
       "    }\n",
       "\n",
       "    .dataframe tbody tr th {\n",
       "        vertical-align: top;\n",
       "    }\n",
       "\n",
       "    .dataframe thead th {\n",
       "        text-align: right;\n",
       "    }\n",
       "</style>\n",
       "<table border=\"1\" class=\"dataframe\">\n",
       "  <thead>\n",
       "    <tr style=\"text-align: right;\">\n",
       "      <th></th>\n",
       "      <th>Nov-18</th>\n",
       "      <th>Mar-19</th>\n",
       "    </tr>\n",
       "  </thead>\n",
       "  <tbody>\n",
       "    <tr>\n",
       "      <th>P2</th>\n",
       "      <td>489</td>\n",
       "      <td>269</td>\n",
       "    </tr>\n",
       "    <tr>\n",
       "      <th>B8</th>\n",
       "      <td>464</td>\n",
       "      <td>659</td>\n",
       "    </tr>\n",
       "  </tbody>\n",
       "</table>\n",
       "</div>"
      ],
      "text/plain": [
       "    Nov-18  Mar-19\n",
       "P2     489     269\n",
       "B8     464     659"
      ]
     },
     "execution_count": 33,
     "metadata": {},
     "output_type": "execute_result"
    }
   ],
   "source": [
    "months_wanted = ['Nov-18', 'Mar-19']\n",
    "stores_wanted = ['P2', 'B8']\n",
    "results = sales_data.loc[stores_wanted, months_wanted]\n",
    "results"
   ]
  },
  {
   "cell_type": "markdown",
   "metadata": {},
   "source": [
    "## In the third quarter (Oct-18 to Dec-18) what were the sales figures for London (L3 & 2) and what was the monthly percentage increase?\n"
   ]
  },
  {
   "cell_type": "code",
   "execution_count": 34,
   "metadata": {},
   "outputs": [
    {
     "data": {
      "text/html": [
       "<div>\n",
       "<style scoped>\n",
       "    .dataframe tbody tr th:only-of-type {\n",
       "        vertical-align: middle;\n",
       "    }\n",
       "\n",
       "    .dataframe tbody tr th {\n",
       "        vertical-align: top;\n",
       "    }\n",
       "\n",
       "    .dataframe thead th {\n",
       "        text-align: right;\n",
       "    }\n",
       "</style>\n",
       "<table border=\"1\" class=\"dataframe\">\n",
       "  <thead>\n",
       "    <tr style=\"text-align: right;\">\n",
       "      <th></th>\n",
       "      <th>Apr-18</th>\n",
       "      <th>May-18</th>\n",
       "      <th>Jun-18</th>\n",
       "      <th>Jul-18</th>\n",
       "      <th>Aug-18</th>\n",
       "      <th>Sep-18</th>\n",
       "      <th>Oct-18</th>\n",
       "      <th>Nov-18</th>\n",
       "      <th>Dec-18</th>\n",
       "      <th>Jan-19</th>\n",
       "      <th>Feb-19</th>\n",
       "      <th>Mar-19</th>\n",
       "    </tr>\n",
       "  </thead>\n",
       "  <tbody>\n",
       "    <tr>\n",
       "      <th>L3</th>\n",
       "      <td>390</td>\n",
       "      <td>345</td>\n",
       "      <td>379</td>\n",
       "      <td>353</td>\n",
       "      <td>365</td>\n",
       "      <td>326</td>\n",
       "      <td>363</td>\n",
       "      <td>459</td>\n",
       "      <td>539</td>\n",
       "      <td>474</td>\n",
       "      <td>340</td>\n",
       "      <td>343</td>\n",
       "    </tr>\n",
       "  </tbody>\n",
       "</table>\n",
       "</div>"
      ],
      "text/plain": [
       "    Apr-18  May-18  Jun-18  Jul-18  Aug-18  Sep-18  Oct-18  Nov-18  Dec-18  \\\n",
       "L3     390     345     379     353     365     326     363     459     539   \n",
       "\n",
       "    Jan-19  Feb-19  Mar-19  \n",
       "L3     474     340     343  "
      ]
     },
     "execution_count": 34,
     "metadata": {},
     "output_type": "execute_result"
    }
   ],
   "source": [
    "months_wanted = ['Oct-18', 'Nov-18', 'Dec-18']\n",
    "L3_sales = sales_data.loc['L3',:].to_frame().transpose()\n",
    "L3_sales"
   ]
  },
  {
   "cell_type": "code",
   "execution_count": 35,
   "metadata": {},
   "outputs": [
    {
     "data": {
      "text/html": [
       "<div>\n",
       "<style scoped>\n",
       "    .dataframe tbody tr th:only-of-type {\n",
       "        vertical-align: middle;\n",
       "    }\n",
       "\n",
       "    .dataframe tbody tr th {\n",
       "        vertical-align: top;\n",
       "    }\n",
       "\n",
       "    .dataframe thead th {\n",
       "        text-align: right;\n",
       "    }\n",
       "</style>\n",
       "<table border=\"1\" class=\"dataframe\">\n",
       "  <thead>\n",
       "    <tr style=\"text-align: right;\">\n",
       "      <th></th>\n",
       "      <th>Oct-18</th>\n",
       "      <th>Nov-18</th>\n",
       "      <th>Dec-18</th>\n",
       "    </tr>\n",
       "  </thead>\n",
       "  <tbody>\n",
       "    <tr>\n",
       "      <th>L3</th>\n",
       "      <td>363.000000</td>\n",
       "      <td>459.000000</td>\n",
       "      <td>539.000000</td>\n",
       "    </tr>\n",
       "    <tr>\n",
       "      <th>%change</th>\n",
       "      <td>11.349693</td>\n",
       "      <td>26.446281</td>\n",
       "      <td>17.429194</td>\n",
       "    </tr>\n",
       "  </tbody>\n",
       "</table>\n",
       "</div>"
      ],
      "text/plain": [
       "             Oct-18      Nov-18      Dec-18\n",
       "L3       363.000000  459.000000  539.000000\n",
       "%change   11.349693   26.446281   17.429194"
      ]
     },
     "execution_count": 35,
     "metadata": {},
     "output_type": "execute_result"
    }
   ],
   "source": [
    "L3_sales = L3_sales.append(L3_sales.pct_change(axis=1))\n",
    "L3_sales.index = L3_sales.index.where(~L3_sales.index.duplicated(), '%change')\n",
    "L3_sales.loc['%change'] = L3_sales.loc['%change'] *100\n",
    "results = L3_sales.loc[:, months_wanted]\n",
    "results"
   ]
  },
  {
   "cell_type": "markdown",
   "metadata": {},
   "source": [
    "## What were the top three months for New York (N6 and N4) and in which stores did they occur?\n"
   ]
  },
  {
   "cell_type": "code",
   "execution_count": 36,
   "metadata": {},
   "outputs": [],
   "source": [
    "stores = ['N6', 'N4']\n",
    "N6N4 = sales_data.loc[stores]\n",
    "max_values = N6N4.max().sort_values(ascending = False)"
   ]
  },
  {
   "cell_type": "code",
   "execution_count": 37,
   "metadata": {},
   "outputs": [
    {
     "name": "stdout",
     "output_type": "stream",
     "text": [
      "Dec-18 Store: N4 Amount: 676\n",
      "Jan-19 Store: N6 Amount: 495\n",
      "May-18 Store: N6 Amount: 480\n"
     ]
    }
   ],
   "source": [
    "# find out which store the max value is in\n",
    "for i in list(max_values.index.values[:3]):\n",
    "    print (f\"{i} Store: {N6N4[i].idxmax()} Amount: {max_values[i]}\")                                               \n"
   ]
  },
  {
   "cell_type": "markdown",
   "metadata": {},
   "source": [
    "## What was the overall lowest sales figure in which store and which month?"
   ]
  },
  {
   "cell_type": "code",
   "execution_count": 38,
   "metadata": {},
   "outputs": [
    {
     "name": "stdout",
     "output_type": "stream",
     "text": [
      "Feb-19 Store: B8 Amount: 215\n"
     ]
    }
   ],
   "source": [
    "month_of_lowest = sales_data.min().idxmin()\n",
    "lowest_amount = sales_data.min().min()\n",
    "lowest_store = sales_data[month_of_lowest].idxmax()\n",
    "print (f\"{month_of_lowest} Store: {lowest_store} Amount: {lowest_amount}\")  "
   ]
  },
  {
   "cell_type": "markdown",
   "metadata": {},
   "source": [
    "# Exercise 3"
   ]
  },
  {
   "cell_type": "markdown",
   "metadata": {},
   "source": [
    "### Using the data set from exercise 2, above, create a new data table, including headings, that gives the percentage increase for each month, based on the stores average for the year. From this ascertain:\n"
   ]
  },
  {
   "cell_type": "code",
   "execution_count": 39,
   "metadata": {
    "scrolled": true
   },
   "outputs": [
    {
     "data": {
      "text/html": [
       "<div>\n",
       "<style scoped>\n",
       "    .dataframe tbody tr th:only-of-type {\n",
       "        vertical-align: middle;\n",
       "    }\n",
       "\n",
       "    .dataframe tbody tr th {\n",
       "        vertical-align: top;\n",
       "    }\n",
       "\n",
       "    .dataframe thead th {\n",
       "        text-align: right;\n",
       "    }\n",
       "</style>\n",
       "<table border=\"1\" class=\"dataframe\">\n",
       "  <thead>\n",
       "    <tr style=\"text-align: right;\">\n",
       "      <th></th>\n",
       "      <th>Apr-18</th>\n",
       "      <th>May-18</th>\n",
       "      <th>Jun-18</th>\n",
       "      <th>Jul-18</th>\n",
       "      <th>Aug-18</th>\n",
       "      <th>Sep-18</th>\n",
       "      <th>Oct-18</th>\n",
       "      <th>Nov-18</th>\n",
       "      <th>Dec-18</th>\n",
       "      <th>Jan-19</th>\n",
       "      <th>Feb-19</th>\n",
       "      <th>Mar-19</th>\n",
       "    </tr>\n",
       "  </thead>\n",
       "  <tbody>\n",
       "    <tr>\n",
       "      <th>L3</th>\n",
       "      <td>-0.033856</td>\n",
       "      <td>-0.159220</td>\n",
       "      <td>-0.005249</td>\n",
       "      <td>-0.085097</td>\n",
       "      <td>-0.036939</td>\n",
       "      <td>-0.080827</td>\n",
       "      <td>0.081967</td>\n",
       "      <td>0.005844</td>\n",
       "      <td>-0.096143</td>\n",
       "      <td>0.034934</td>\n",
       "      <td>0.089162</td>\n",
       "      <td>0.032614</td>\n",
       "    </tr>\n",
       "    <tr>\n",
       "      <th>L1</th>\n",
       "      <td>-0.028902</td>\n",
       "      <td>-0.081235</td>\n",
       "      <td>-0.089239</td>\n",
       "      <td>0.023758</td>\n",
       "      <td>-0.129288</td>\n",
       "      <td>-0.063910</td>\n",
       "      <td>0.013413</td>\n",
       "      <td>-0.022644</td>\n",
       "      <td>-0.039128</td>\n",
       "      <td>0.013100</td>\n",
       "      <td>-0.285638</td>\n",
       "      <td>-0.349724</td>\n",
       "    </tr>\n",
       "    <tr>\n",
       "      <th>P2</th>\n",
       "      <td>-0.380677</td>\n",
       "      <td>-0.341998</td>\n",
       "      <td>-0.212598</td>\n",
       "      <td>0.031533</td>\n",
       "      <td>-0.007916</td>\n",
       "      <td>0.077068</td>\n",
       "      <td>-0.087928</td>\n",
       "      <td>0.071585</td>\n",
       "      <td>-0.074343</td>\n",
       "      <td>0.065502</td>\n",
       "      <td>-0.045382</td>\n",
       "      <td>-0.190166</td>\n",
       "    </tr>\n",
       "    <tr>\n",
       "      <th>N6</th>\n",
       "      <td>0.139554</td>\n",
       "      <td>0.169781</td>\n",
       "      <td>0.181102</td>\n",
       "      <td>-0.196544</td>\n",
       "      <td>0.034301</td>\n",
       "      <td>0.079887</td>\n",
       "      <td>-0.064083</td>\n",
       "      <td>-0.119065</td>\n",
       "      <td>0.073225</td>\n",
       "      <td>0.080786</td>\n",
       "      <td>-0.311265</td>\n",
       "      <td>-0.268440</td>\n",
       "    </tr>\n",
       "    <tr>\n",
       "      <th>N4</th>\n",
       "      <td>0.139554</td>\n",
       "      <td>0.169781</td>\n",
       "      <td>0.181102</td>\n",
       "      <td>0.003024</td>\n",
       "      <td>0.023747</td>\n",
       "      <td>-0.097744</td>\n",
       "      <td>0.004471</td>\n",
       "      <td>0.047480</td>\n",
       "      <td>0.133594</td>\n",
       "      <td>-0.109170</td>\n",
       "      <td>0.082755</td>\n",
       "      <td>-0.208229</td>\n",
       "    </tr>\n",
       "    <tr>\n",
       "      <th>B8</th>\n",
       "      <td>0.164327</td>\n",
       "      <td>0.242892</td>\n",
       "      <td>-0.055118</td>\n",
       "      <td>0.223326</td>\n",
       "      <td>0.116095</td>\n",
       "      <td>0.085526</td>\n",
       "      <td>0.052161</td>\n",
       "      <td>0.016801</td>\n",
       "      <td>0.002795</td>\n",
       "      <td>-0.085153</td>\n",
       "      <td>0.470368</td>\n",
       "      <td>0.983944</td>\n",
       "    </tr>\n",
       "  </tbody>\n",
       "</table>\n",
       "</div>"
      ],
      "text/plain": [
       "      Apr-18    May-18    Jun-18    Jul-18    Aug-18    Sep-18    Oct-18  \\\n",
       "L3 -0.033856 -0.159220 -0.005249 -0.085097 -0.036939 -0.080827  0.081967   \n",
       "L1 -0.028902 -0.081235 -0.089239  0.023758 -0.129288 -0.063910  0.013413   \n",
       "P2 -0.380677 -0.341998 -0.212598  0.031533 -0.007916  0.077068 -0.087928   \n",
       "N6  0.139554  0.169781  0.181102 -0.196544  0.034301  0.079887 -0.064083   \n",
       "N4  0.139554  0.169781  0.181102  0.003024  0.023747 -0.097744  0.004471   \n",
       "B8  0.164327  0.242892 -0.055118  0.223326  0.116095  0.085526  0.052161   \n",
       "\n",
       "      Nov-18    Dec-18    Jan-19    Feb-19    Mar-19  \n",
       "L3  0.005844 -0.096143  0.034934  0.089162  0.032614  \n",
       "L1 -0.022644 -0.039128  0.013100 -0.285638 -0.349724  \n",
       "P2  0.071585 -0.074343  0.065502 -0.045382 -0.190166  \n",
       "N6 -0.119065  0.073225  0.080786 -0.311265 -0.268440  \n",
       "N4  0.047480  0.133594 -0.109170  0.082755 -0.208229  \n",
       "B8  0.016801  0.002795 -0.085153  0.470368  0.983944  "
      ]
     },
     "execution_count": 39,
     "metadata": {},
     "output_type": "execute_result"
    }
   ],
   "source": [
    "percent_change_from_mean = sales_data = sales_data.apply(lambda row : row.apply(lambda x : (x - row.mean())/row.mean())) \n",
    "percent_change_from_mean\n",
    "# got this code from Rosie's solution"
   ]
  },
  {
   "cell_type": "markdown",
   "metadata": {},
   "source": [
    "## Which store had the largest and smallest increase and in which months did they occur?"
   ]
  },
  {
   "cell_type": "code",
   "execution_count": 40,
   "metadata": {
    "scrolled": true
   },
   "outputs": [
    {
     "name": "stdout",
     "output_type": "stream",
     "text": [
      "      Apr-18\n",
      "P2 -0.380677\n",
      "      Mar-19\n",
      "B8  0.983944\n"
     ]
    }
   ],
   "source": [
    "y, x = percent_change_from_mean.stack().idxmin()\n",
    "print(percent_change_from_mean.loc[[y], [x]])\n",
    "\n",
    "y, x = monthly_increase.stack().idxmax() \n",
    "print(monthly_increase.loc[[y], [x]])\n"
   ]
  },
  {
   "cell_type": "markdown",
   "metadata": {},
   "source": [
    "## Across all the stores which months showed the smallest average increase and the largest average increase?"
   ]
  },
  {
   "cell_type": "code",
   "execution_count": 41,
   "metadata": {},
   "outputs": [
    {
     "name": "stdout",
     "output_type": "stream",
     "text": [
      "Biggest change: B8 0.1848303366643321\n",
      "Smallest change: P2 -0.09127667159485577\n"
     ]
    }
   ],
   "source": [
    "mean_percentage_change = percent_change_from_mean.mean(axis=1)\n",
    "print(f\"Biggest change: {mean_percentage_change.idxmax()} {mean_percentage_change.max()}\")\n",
    "print(f\"Smallest change: {mean_percentage_change.idxmin()} {mean_percentage_change.min()}\")"
   ]
  },
  {
   "cell_type": "code",
   "execution_count": null,
   "metadata": {},
   "outputs": [],
   "source": []
  }
 ],
 "metadata": {
  "kernelspec": {
   "display_name": "Python 3",
   "language": "python",
   "name": "python3"
  },
  "language_info": {
   "codemirror_mode": {
    "name": "ipython",
    "version": 3
   },
   "file_extension": ".py",
   "mimetype": "text/x-python",
   "name": "python",
   "nbconvert_exporter": "python",
   "pygments_lexer": "ipython3",
   "version": "3.8.3"
  }
 },
 "nbformat": 4,
 "nbformat_minor": 4
}
