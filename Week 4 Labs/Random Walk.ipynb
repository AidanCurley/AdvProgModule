{
 "cells": [
  {
   "cell_type": "code",
   "execution_count": 129,
   "metadata": {},
   "outputs": [],
   "source": [
    "import numpy as np\n",
    "from numpy import random"
   ]
  },
  {
   "cell_type": "code",
   "execution_count": 130,
   "metadata": {},
   "outputs": [],
   "source": [
    "journeys = []\n",
    "iterations = 100\n",
    "for i in range(iterations):    \n",
    "    path = 0\n",
    "    steps = 0\n",
    "    # the coast is 4 steps from the start\n",
    "    while path > -4 and path < 4:\n",
    "        steps += 1\n",
    "        x = random.rand()\n",
    "        if x < 0.5:\n",
    "            path -=1\n",
    "        else:\n",
    "            path +=1\n",
    "    journeys.append(steps)   \n",
    "results = np.array(journeys)    "
   ]
  },
  {
   "cell_type": "markdown",
   "metadata": {},
   "source": [
    "## Print statistics about results"
   ]
  },
  {
   "cell_type": "code",
   "execution_count": 131,
   "metadata": {},
   "outputs": [
    {
     "name": "stdout",
     "output_type": "stream",
     "text": [
      "The total number of steps taken for 100 iterations was 1534.\n",
      "The average number of steps taken was 15.34.\n",
      "The fewest number of steps taken before death was 4 and this happened 11.0% of the time.\n",
      "The most steps taken before death was 62.\n"
     ]
    }
   ],
   "source": [
    "print(f\"The total number of steps taken for {iterations} iterations was {np.sum(results)}.\")\n",
    "print(f\"The average number of steps taken was {np.mean(results)}.\")\n",
    "print(f\"The fewest number of steps taken before death was {np.min(results)} and this happened \" \n",
    "      f\"{np.count_nonzero(results == np.min(results))/iterations *100}% of the time.\")\n",
    "print(f\"The most steps taken before death was {np.max(results)}.\")"
   ]
  },
  {
   "cell_type": "markdown",
   "metadata": {},
   "source": [
    "## Print graph of results"
   ]
  },
  {
   "cell_type": "code",
   "execution_count": 132,
   "metadata": {},
   "outputs": [
    {
     "data": {
      "image/png": "[encoded data removed]",
      "text/plain": [
       "<Figure size 432x288 with 1 Axes>"
      ]
     },
     "metadata": {
      "needs_background": "light"
     },
     "output_type": "display_data"
    }
   ],
   "source": [
    "import matplotlib.pyplot as plt\n",
    "plt.scatter(np.arange(iterations), results)\n",
    "plt.title(\"Random Walk\")\n",
    "plt.xlabel(\"Journey Number\")\n",
    "plt.ylabel(\"Steps Taken\")\n",
    "plt.show()"
   ]
  },
  {
   "cell_type": "raw",
   "metadata": {},
   "source": []
  }
 ],
 "metadata": {
  "kernelspec": {
   "display_name": "Python 3",
   "language": "python",
   "name": "python3"
  },
  "language_info": {
   "codemirror_mode": {
    "name": "ipython",
    "version": 3
   },
   "file_extension": ".py",
   "mimetype": "text/x-python",
   "name": "python",
   "nbconvert_exporter": "python",
   "pygments_lexer": "ipython3",
   "version": "3.8.3"
  }
 },
 "nbformat": 4,
 "nbformat_minor": 4
}
