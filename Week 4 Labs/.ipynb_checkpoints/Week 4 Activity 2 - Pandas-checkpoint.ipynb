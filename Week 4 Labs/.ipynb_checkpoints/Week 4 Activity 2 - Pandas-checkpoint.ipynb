{
 "cells": [
  {
   "cell_type": "markdown",
   "metadata": {},
   "source": [
    "# Exercise 2"
   ]
  },
  {
   "cell_type": "code",
   "execution_count": 143,
   "metadata": {},
   "outputs": [
    {
     "data": {
      "text/html": [
       "<div>\n",
       "<style scoped>\n",
       "    .dataframe tbody tr th:only-of-type {\n",
       "        vertical-align: middle;\n",
       "    }\n",
       "\n",
       "    .dataframe tbody tr th {\n",
       "        vertical-align: top;\n",
       "    }\n",
       "\n",
       "    .dataframe thead th {\n",
       "        text-align: right;\n",
       "    }\n",
       "</style>\n",
       "<table border=\"1\" class=\"dataframe\">\n",
       "  <thead>\n",
       "    <tr style=\"text-align: right;\">\n",
       "      <th></th>\n",
       "      <th>Apr-18</th>\n",
       "      <th>May-18</th>\n",
       "      <th>Jun-18</th>\n",
       "      <th>Jul-18</th>\n",
       "      <th>Aug-18</th>\n",
       "      <th>Sep-18</th>\n",
       "      <th>Oct-18</th>\n",
       "      <th>Nov-18</th>\n",
       "      <th>Dec-18</th>\n",
       "      <th>Jan-19</th>\n",
       "      <th>Feb-19</th>\n",
       "      <th>Mar-19</th>\n",
       "    </tr>\n",
       "  </thead>\n",
       "  <tbody>\n",
       "    <tr>\n",
       "      <th>L3</th>\n",
       "      <td>390</td>\n",
       "      <td>345</td>\n",
       "      <td>379</td>\n",
       "      <td>353</td>\n",
       "      <td>365</td>\n",
       "      <td>326</td>\n",
       "      <td>363</td>\n",
       "      <td>459</td>\n",
       "      <td>539</td>\n",
       "      <td>474</td>\n",
       "      <td>340</td>\n",
       "      <td>343</td>\n",
       "    </tr>\n",
       "    <tr>\n",
       "      <th>L1</th>\n",
       "      <td>392</td>\n",
       "      <td>377</td>\n",
       "      <td>347</td>\n",
       "      <td>395</td>\n",
       "      <td>330</td>\n",
       "      <td>332</td>\n",
       "      <td>340</td>\n",
       "      <td>446</td>\n",
       "      <td>573</td>\n",
       "      <td>464</td>\n",
       "      <td>223</td>\n",
       "      <td>216</td>\n",
       "    </tr>\n",
       "    <tr>\n",
       "      <th>P2</th>\n",
       "      <td>250</td>\n",
       "      <td>270</td>\n",
       "      <td>300</td>\n",
       "      <td>398</td>\n",
       "      <td>376</td>\n",
       "      <td>382</td>\n",
       "      <td>306</td>\n",
       "      <td>489</td>\n",
       "      <td>552</td>\n",
       "      <td>488</td>\n",
       "      <td>298</td>\n",
       "      <td>269</td>\n",
       "    </tr>\n",
       "    <tr>\n",
       "      <th>N6</th>\n",
       "      <td>460</td>\n",
       "      <td>480</td>\n",
       "      <td>450</td>\n",
       "      <td>310</td>\n",
       "      <td>392</td>\n",
       "      <td>383</td>\n",
       "      <td>314</td>\n",
       "      <td>402</td>\n",
       "      <td>640</td>\n",
       "      <td>495</td>\n",
       "      <td>215</td>\n",
       "      <td>243</td>\n",
       "    </tr>\n",
       "    <tr>\n",
       "      <th>N4</th>\n",
       "      <td>460</td>\n",
       "      <td>480</td>\n",
       "      <td>450</td>\n",
       "      <td>387</td>\n",
       "      <td>388</td>\n",
       "      <td>320</td>\n",
       "      <td>337</td>\n",
       "      <td>478</td>\n",
       "      <td>676</td>\n",
       "      <td>408</td>\n",
       "      <td>338</td>\n",
       "      <td>263</td>\n",
       "    </tr>\n",
       "    <tr>\n",
       "      <th>B8</th>\n",
       "      <td>470</td>\n",
       "      <td>510</td>\n",
       "      <td>360</td>\n",
       "      <td>472</td>\n",
       "      <td>423</td>\n",
       "      <td>385</td>\n",
       "      <td>353</td>\n",
       "      <td>464</td>\n",
       "      <td>598</td>\n",
       "      <td>419</td>\n",
       "      <td>459</td>\n",
       "      <td>659</td>\n",
       "    </tr>\n",
       "  </tbody>\n",
       "</table>\n",
       "</div>"
      ],
      "text/plain": [
       "    Apr-18  May-18  Jun-18  Jul-18  Aug-18  Sep-18  Oct-18  Nov-18  Dec-18  \\\n",
       "L3     390     345     379     353     365     326     363     459     539   \n",
       "L1     392     377     347     395     330     332     340     446     573   \n",
       "P2     250     270     300     398     376     382     306     489     552   \n",
       "N6     460     480     450     310     392     383     314     402     640   \n",
       "N4     460     480     450     387     388     320     337     478     676   \n",
       "B8     470     510     360     472     423     385     353     464     598   \n",
       "\n",
       "    Jan-19  Feb-19  Mar-19  \n",
       "L3     474     340     343  \n",
       "L1     464     223     216  \n",
       "P2     488     298     269  \n",
       "N6     495     215     243  \n",
       "N4     408     338     263  \n",
       "B8     419     459     659  "
      ]
     },
     "execution_count": 143,
     "metadata": {},
     "output_type": "execute_result"
    }
   ],
   "source": [
    "import pandas as pd\n",
    "import numpy as np\n",
    "\n",
    "sales_data = pd.read_csv(\"SalesData.csv\", index_col=0)\n",
    "sales_data"
   ]
  },
  {
   "cell_type": "markdown",
   "metadata": {},
   "source": [
    "## What were the sales for P2 and B8 in Nov-18, Feb-18 and Mar-19?\n"
   ]
  },
  {
   "cell_type": "code",
   "execution_count": 144,
   "metadata": {
    "scrolled": true
   },
   "outputs": [
    {
     "data": {
      "text/html": [
       "<div>\n",
       "<style scoped>\n",
       "    .dataframe tbody tr th:only-of-type {\n",
       "        vertical-align: middle;\n",
       "    }\n",
       "\n",
       "    .dataframe tbody tr th {\n",
       "        vertical-align: top;\n",
       "    }\n",
       "\n",
       "    .dataframe thead th {\n",
       "        text-align: right;\n",
       "    }\n",
       "</style>\n",
       "<table border=\"1\" class=\"dataframe\">\n",
       "  <thead>\n",
       "    <tr style=\"text-align: right;\">\n",
       "      <th></th>\n",
       "      <th>Nov-18</th>\n",
       "      <th>Mar-19</th>\n",
       "    </tr>\n",
       "  </thead>\n",
       "  <tbody>\n",
       "    <tr>\n",
       "      <th>P2</th>\n",
       "      <td>489</td>\n",
       "      <td>269</td>\n",
       "    </tr>\n",
       "    <tr>\n",
       "      <th>B8</th>\n",
       "      <td>464</td>\n",
       "      <td>659</td>\n",
       "    </tr>\n",
       "  </tbody>\n",
       "</table>\n",
       "</div>"
      ],
      "text/plain": [
       "    Nov-18  Mar-19\n",
       "P2     489     269\n",
       "B8     464     659"
      ]
     },
     "execution_count": 144,
     "metadata": {},
     "output_type": "execute_result"
    }
   ],
   "source": [
    "months_wanted = ['Nov-18', 'Mar-19']\n",
    "stores_wanted = ['P2', 'B8']\n",
    "results = sales_data.loc[stores_wanted, months_wanted]\n",
    "results"
   ]
  },
  {
   "cell_type": "markdown",
   "metadata": {},
   "source": [
    "## In the third quarter (Oct-18 to Dec-18) what were the sales figures for London (L3 & 2) and what was the monthly percentage increase?\n"
   ]
  },
  {
   "cell_type": "code",
   "execution_count": 145,
   "metadata": {},
   "outputs": [
    {
     "data": {
      "text/html": [
       "<div>\n",
       "<style scoped>\n",
       "    .dataframe tbody tr th:only-of-type {\n",
       "        vertical-align: middle;\n",
       "    }\n",
       "\n",
       "    .dataframe tbody tr th {\n",
       "        vertical-align: top;\n",
       "    }\n",
       "\n",
       "    .dataframe thead th {\n",
       "        text-align: right;\n",
       "    }\n",
       "</style>\n",
       "<table border=\"1\" class=\"dataframe\">\n",
       "  <thead>\n",
       "    <tr style=\"text-align: right;\">\n",
       "      <th></th>\n",
       "      <th>Apr-18</th>\n",
       "      <th>May-18</th>\n",
       "      <th>Jun-18</th>\n",
       "      <th>Jul-18</th>\n",
       "      <th>Aug-18</th>\n",
       "      <th>Sep-18</th>\n",
       "      <th>Oct-18</th>\n",
       "      <th>Nov-18</th>\n",
       "      <th>Dec-18</th>\n",
       "      <th>Jan-19</th>\n",
       "      <th>Feb-19</th>\n",
       "      <th>Mar-19</th>\n",
       "    </tr>\n",
       "  </thead>\n",
       "  <tbody>\n",
       "    <tr>\n",
       "      <th>L3</th>\n",
       "      <td>390</td>\n",
       "      <td>345</td>\n",
       "      <td>379</td>\n",
       "      <td>353</td>\n",
       "      <td>365</td>\n",
       "      <td>326</td>\n",
       "      <td>363</td>\n",
       "      <td>459</td>\n",
       "      <td>539</td>\n",
       "      <td>474</td>\n",
       "      <td>340</td>\n",
       "      <td>343</td>\n",
       "    </tr>\n",
       "  </tbody>\n",
       "</table>\n",
       "</div>"
      ],
      "text/plain": [
       "    Apr-18  May-18  Jun-18  Jul-18  Aug-18  Sep-18  Oct-18  Nov-18  Dec-18  \\\n",
       "L3     390     345     379     353     365     326     363     459     539   \n",
       "\n",
       "    Jan-19  Feb-19  Mar-19  \n",
       "L3     474     340     343  "
      ]
     },
     "execution_count": 145,
     "metadata": {},
     "output_type": "execute_result"
    }
   ],
   "source": [
    "months_wanted = ['Oct-18', 'Nov-18', 'Dec-18']\n",
    "L3_sales = sales_data.loc['L3',:].to_frame().transpose()\n",
    "L3_sales"
   ]
  },
  {
   "cell_type": "code",
   "execution_count": 146,
   "metadata": {},
   "outputs": [
    {
     "data": {
      "text/html": [
       "<div>\n",
       "<style scoped>\n",
       "    .dataframe tbody tr th:only-of-type {\n",
       "        vertical-align: middle;\n",
       "    }\n",
       "\n",
       "    .dataframe tbody tr th {\n",
       "        vertical-align: top;\n",
       "    }\n",
       "\n",
       "    .dataframe thead th {\n",
       "        text-align: right;\n",
       "    }\n",
       "</style>\n",
       "<table border=\"1\" class=\"dataframe\">\n",
       "  <thead>\n",
       "    <tr style=\"text-align: right;\">\n",
       "      <th></th>\n",
       "      <th>Oct-18</th>\n",
       "      <th>Nov-18</th>\n",
       "      <th>Dec-18</th>\n",
       "    </tr>\n",
       "  </thead>\n",
       "  <tbody>\n",
       "    <tr>\n",
       "      <th>L3</th>\n",
       "      <td>363.000000</td>\n",
       "      <td>459.000000</td>\n",
       "      <td>539.000000</td>\n",
       "    </tr>\n",
       "    <tr>\n",
       "      <th>%change</th>\n",
       "      <td>11.349693</td>\n",
       "      <td>26.446281</td>\n",
       "      <td>17.429194</td>\n",
       "    </tr>\n",
       "  </tbody>\n",
       "</table>\n",
       "</div>"
      ],
      "text/plain": [
       "             Oct-18      Nov-18      Dec-18\n",
       "L3       363.000000  459.000000  539.000000\n",
       "%change   11.349693   26.446281   17.429194"
      ]
     },
     "execution_count": 146,
     "metadata": {},
     "output_type": "execute_result"
    }
   ],
   "source": [
    "L3_sales = L3_sales.append(L3_sales.pct_change(axis=1))\n",
    "L3_sales.index = L3_sales.index.where(~L3_sales.index.duplicated(), '%change')\n",
    "L3_sales.loc['%change'] = L3_sales.loc['%change'] *100\n",
    "results = L3_sales.loc[:, months_wanted]\n",
    "results"
   ]
  },
  {
   "cell_type": "markdown",
   "metadata": {},
   "source": [
    "## What were the top three months for New York (N6 and N4) and in which stores did they occur?\n"
   ]
  },
  {
   "cell_type": "code",
   "execution_count": 147,
   "metadata": {},
   "outputs": [],
   "source": [
    "stores = ['N6', 'N4']\n",
    "N6N4 = sales_data.loc[stores]\n",
    "max_values = N6N4.max().sort_values(ascending = False)"
   ]
  },
  {
   "cell_type": "code",
   "execution_count": 148,
   "metadata": {},
   "outputs": [
    {
     "name": "stdout",
     "output_type": "stream",
     "text": [
      "Dec-18 Store: N4 Amount: 676\n",
      "Jan-19 Store: N6 Amount: 495\n",
      "May-18 Store: N6 Amount: 480\n"
     ]
    }
   ],
   "source": [
    "# find out which store the max value is in\n",
    "for i in list(max_values.index.values[:3]):\n",
    "    print (f\"{i} Store: {N6N4[i].idxmax()} Amount: {max_values[i]}\")                                               \n"
   ]
  },
  {
   "cell_type": "markdown",
   "metadata": {},
   "source": [
    "## What was the overall lowest sales figure in which store and which month?"
   ]
  },
  {
   "cell_type": "code",
   "execution_count": 149,
   "metadata": {},
   "outputs": [
    {
     "name": "stdout",
     "output_type": "stream",
     "text": [
      "Feb-19 Store: B8 Amount: 215\n"
     ]
    }
   ],
   "source": [
    "month_of_lowest = sales_data.min().idxmin()\n",
    "lowest_amount = sales_data.min().min()\n",
    "lowest_store = sales_data[month_of_lowest].idxmax()\n",
    "print (f\"{month_of_lowest} Store: {lowest_store} Amount: {lowest_amount}\")  "
   ]
  },
  {
   "cell_type": "markdown",
   "metadata": {},
   "source": [
    "# Exercise 3"
   ]
  },
  {
   "cell_type": "markdown",
   "metadata": {},
   "source": [
    "### Using the data set from exercise 2, above, create a new data table, including headings, that gives the percentage increase for each month, based on the stores average for the year. From this ascertain:\n"
   ]
  },
  {
   "cell_type": "code",
   "execution_count": 152,
   "metadata": {},
   "outputs": [
    {
     "data": {
      "text/html": [
       "<div>\n",
       "<style scoped>\n",
       "    .dataframe tbody tr th:only-of-type {\n",
       "        vertical-align: middle;\n",
       "    }\n",
       "\n",
       "    .dataframe tbody tr th {\n",
       "        vertical-align: top;\n",
       "    }\n",
       "\n",
       "    .dataframe thead th {\n",
       "        text-align: right;\n",
       "    }\n",
       "</style>\n",
       "<table border=\"1\" class=\"dataframe\">\n",
       "  <thead>\n",
       "    <tr style=\"text-align: right;\">\n",
       "      <th></th>\n",
       "      <th>Apr-18</th>\n",
       "      <th>May-18</th>\n",
       "      <th>Jun-18</th>\n",
       "      <th>Jul-18</th>\n",
       "      <th>Aug-18</th>\n",
       "      <th>Sep-18</th>\n",
       "      <th>Oct-18</th>\n",
       "      <th>Nov-18</th>\n",
       "      <th>Dec-18</th>\n",
       "      <th>Jan-19</th>\n",
       "      <th>Feb-19</th>\n",
       "      <th>Mar-19</th>\n",
       "    </tr>\n",
       "  </thead>\n",
       "  <tbody>\n",
       "    <tr>\n",
       "      <th>L3</th>\n",
       "      <td>NaN</td>\n",
       "      <td>-0.115385</td>\n",
       "      <td>0.098551</td>\n",
       "      <td>-0.068602</td>\n",
       "      <td>0.033994</td>\n",
       "      <td>-0.106849</td>\n",
       "      <td>0.113497</td>\n",
       "      <td>0.264463</td>\n",
       "      <td>0.174292</td>\n",
       "      <td>-0.120594</td>\n",
       "      <td>-0.282700</td>\n",
       "      <td>0.008824</td>\n",
       "    </tr>\n",
       "    <tr>\n",
       "      <th>L1</th>\n",
       "      <td>NaN</td>\n",
       "      <td>-0.038265</td>\n",
       "      <td>-0.079576</td>\n",
       "      <td>0.138329</td>\n",
       "      <td>-0.164557</td>\n",
       "      <td>0.006061</td>\n",
       "      <td>0.024096</td>\n",
       "      <td>0.311765</td>\n",
       "      <td>0.284753</td>\n",
       "      <td>-0.190227</td>\n",
       "      <td>-0.519397</td>\n",
       "      <td>-0.031390</td>\n",
       "    </tr>\n",
       "    <tr>\n",
       "      <th>P2</th>\n",
       "      <td>NaN</td>\n",
       "      <td>0.080000</td>\n",
       "      <td>0.111111</td>\n",
       "      <td>0.326667</td>\n",
       "      <td>-0.055276</td>\n",
       "      <td>0.015957</td>\n",
       "      <td>-0.198953</td>\n",
       "      <td>0.598039</td>\n",
       "      <td>0.128834</td>\n",
       "      <td>-0.115942</td>\n",
       "      <td>-0.389344</td>\n",
       "      <td>-0.097315</td>\n",
       "    </tr>\n",
       "    <tr>\n",
       "      <th>N6</th>\n",
       "      <td>NaN</td>\n",
       "      <td>0.043478</td>\n",
       "      <td>-0.062500</td>\n",
       "      <td>-0.311111</td>\n",
       "      <td>0.264516</td>\n",
       "      <td>-0.022959</td>\n",
       "      <td>-0.180157</td>\n",
       "      <td>0.280255</td>\n",
       "      <td>0.592040</td>\n",
       "      <td>-0.226562</td>\n",
       "      <td>-0.565657</td>\n",
       "      <td>0.130233</td>\n",
       "    </tr>\n",
       "    <tr>\n",
       "      <th>N4</th>\n",
       "      <td>NaN</td>\n",
       "      <td>0.043478</td>\n",
       "      <td>-0.062500</td>\n",
       "      <td>-0.140000</td>\n",
       "      <td>0.002584</td>\n",
       "      <td>-0.175258</td>\n",
       "      <td>0.053125</td>\n",
       "      <td>0.418398</td>\n",
       "      <td>0.414226</td>\n",
       "      <td>-0.396450</td>\n",
       "      <td>-0.171569</td>\n",
       "      <td>-0.221893</td>\n",
       "    </tr>\n",
       "    <tr>\n",
       "      <th>B8</th>\n",
       "      <td>NaN</td>\n",
       "      <td>0.085106</td>\n",
       "      <td>-0.294118</td>\n",
       "      <td>0.311111</td>\n",
       "      <td>-0.103814</td>\n",
       "      <td>-0.089835</td>\n",
       "      <td>-0.083117</td>\n",
       "      <td>0.314448</td>\n",
       "      <td>0.288793</td>\n",
       "      <td>-0.299331</td>\n",
       "      <td>0.095465</td>\n",
       "      <td>0.435730</td>\n",
       "    </tr>\n",
       "  </tbody>\n",
       "</table>\n",
       "</div>"
      ],
      "text/plain": [
       "    Apr-18    May-18    Jun-18    Jul-18    Aug-18    Sep-18    Oct-18  \\\n",
       "L3     NaN -0.115385  0.098551 -0.068602  0.033994 -0.106849  0.113497   \n",
       "L1     NaN -0.038265 -0.079576  0.138329 -0.164557  0.006061  0.024096   \n",
       "P2     NaN  0.080000  0.111111  0.326667 -0.055276  0.015957 -0.198953   \n",
       "N6     NaN  0.043478 -0.062500 -0.311111  0.264516 -0.022959 -0.180157   \n",
       "N4     NaN  0.043478 -0.062500 -0.140000  0.002584 -0.175258  0.053125   \n",
       "B8     NaN  0.085106 -0.294118  0.311111 -0.103814 -0.089835 -0.083117   \n",
       "\n",
       "      Nov-18    Dec-18    Jan-19    Feb-19    Mar-19  \n",
       "L3  0.264463  0.174292 -0.120594 -0.282700  0.008824  \n",
       "L1  0.311765  0.284753 -0.190227 -0.519397 -0.031390  \n",
       "P2  0.598039  0.128834 -0.115942 -0.389344 -0.097315  \n",
       "N6  0.280255  0.592040 -0.226562 -0.565657  0.130233  \n",
       "N4  0.418398  0.414226 -0.396450 -0.171569 -0.221893  \n",
       "B8  0.314448  0.288793 -0.299331  0.095465  0.435730  "
      ]
     },
     "execution_count": 152,
     "metadata": {},
     "output_type": "execute_result"
    }
   ],
   "source": [
    "monthly_increase = sales_data.pct_change(axis=1) \n",
    "monthly_increase"
   ]
  },
  {
   "cell_type": "code",
   "execution_count": 157,
   "metadata": {},
   "outputs": [
    {
     "name": "stdout",
     "output_type": "stream",
     "text": [
      "      Feb-19\n",
      "N6 -0.565657\n",
      "      Nov-18\n",
      "P2  0.598039\n"
     ]
    }
   ],
   "source": [
    "## Which store had the largest and smallest increase and in which months did they occur?\n",
    "y, x = monthly_increase.stack().idxmin()\n",
    "print(monthly_increase.loc[[y], [x]])\n",
    "\n",
    "y, x = monthly_increase.stack().idxmax() \n",
    "print(monthly_increase.loc[[y], [x]])\n"
   ]
  },
  {
   "cell_type": "code",
   "execution_count": 161,
   "metadata": {},
   "outputs": [
    {
     "name": "stdout",
     "output_type": "stream",
     "text": [
      "Apr-18         NaN\n",
      "May-18    0.016402\n",
      "Jun-18   -0.048172\n",
      "Jul-18    0.042732\n",
      "Aug-18   -0.003759\n",
      "Sep-18   -0.062147\n",
      "Oct-18   -0.045251\n",
      "Nov-18    0.364561\n",
      "Dec-18    0.313823\n",
      "Jan-19   -0.224851\n",
      "Feb-19   -0.305534\n",
      "Mar-19    0.037364\n",
      "dtype: float64\n"
     ]
    }
   ],
   "source": [
    "## Across all the stores which months showed the smallest average increase and the largest average increase?\n"
   ]
  },
  {
   "cell_type": "code",
   "execution_count": null,
   "metadata": {},
   "outputs": [],
   "source": []
  }
 ],
 "metadata": {
  "kernelspec": {
   "display_name": "Python 3",
   "language": "python",
   "name": "python3"
  },
  "language_info": {
   "codemirror_mode": {
    "name": "ipython",
    "version": 3
   },
   "file_extension": ".py",
   "mimetype": "text/x-python",
   "name": "python",
   "nbconvert_exporter": "python",
   "pygments_lexer": "ipython3",
   "version": "3.8.3"
  }
 },
 "nbformat": 4,
 "nbformat_minor": 4
}
